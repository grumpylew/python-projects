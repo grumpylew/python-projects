{
 "cells": [
  {
   "cell_type": "code",
   "execution_count": 10,
   "metadata": {},
   "outputs": [
    {
     "name": "stdout",
     "output_type": "stream",
     "text": [
      "2024-10-05\n",
      "{'year': '2024', 'month': '10', 'day': '05'}\n"
     ]
    }
   ],
   "source": [
    "import regex as re\n",
    "\n",
    "# named capture groups (?<name>x)\n",
    "string = '2024-10-05'\n",
    "pattern = r'(?<year>\\d{4})-(?<month>\\d{2})-(?<day>\\d{2})'\n",
    "\n",
    "# re.match returns a SRE_Match object\n",
    "# re.match only checks for matches at the beginning of the string\n",
    "# better to use re.search\n",
    "output = re.match(pattern, string)\n",
    "\n",
    "print(output.group())\n",
    "print(output.groupdict()) # useful for extracting named groups"
   ]
  },
  {
   "cell_type": "code",
   "execution_count": 17,
   "metadata": {},
   "outputs": [
    {
     "name": "stdout",
     "output_type": "stream",
     "text": [
      "fox\n",
      "ee\n"
     ]
    }
   ],
   "source": [
    "# word boundaries \\b\n",
    "string = \"the red fox ran\"\n",
    "pattern = r\"\\bfox\\b\"\n",
    "\n",
    "# re.search searches for entire string\n",
    "output = re.search(pattern, string)\n",
    "\n",
    "print(output.group())\n",
    "\n",
    "# word boundaries \\B\n",
    "string = \"treeees\"\n",
    "pattern = r\"\\Bee\\B\"\n",
    "\n",
    "# re.search searches for entire string\n",
    "output = re.search(pattern, string)\n",
    "\n",
    "print(output.group())"
   ]
  },
  {
   "cell_type": "code",
   "execution_count": null,
   "metadata": {},
   "outputs": [],
   "source": []
  }
 ],
 "metadata": {
  "kernelspec": {
   "display_name": "Python 3",
   "language": "python",
   "name": "python3"
  },
  "language_info": {
   "codemirror_mode": {
    "name": "ipython",
    "version": 3
   },
   "file_extension": ".py",
   "mimetype": "text/x-python",
   "name": "python",
   "nbconvert_exporter": "python",
   "pygments_lexer": "ipython3",
   "version": "3.12.3"
  }
 },
 "nbformat": 4,
 "nbformat_minor": 2
}
